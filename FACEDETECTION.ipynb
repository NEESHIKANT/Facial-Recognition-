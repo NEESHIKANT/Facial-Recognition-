{
  "nbformat": 4,
  "nbformat_minor": 0,
  "metadata": {
    "colab": {
      "provenance": [],
      "toc_visible": true
    },
    "kernelspec": {
      "name": "python3",
      "display_name": "Python 3"
    },
    "language_info": {
      "name": "python"
    }
  },
  "cells": [
    {
      "cell_type": "code",
      "execution_count": 104,
      "metadata": {
        "id": "zQyyiFTdCsad"
      },
      "outputs": [],
      "source": [
        "#unpickling\n",
        "import pickle\n",
        "with open('/content/images.p','rb') as f:\n",
        "  images = pickle.load(f)\n",
        "with open('/content/labels.p','rb') as f:\n",
        "  labels = pickle.load(f)\n",
        "\n"
      ]
    },
    {
      "cell_type": "code",
      "source": [
        "print(images.shape)\n",
        "print(labels.shape)"
      ],
      "metadata": {
        "colab": {
          "base_uri": "https://localhost:8080/"
        },
        "id": "vSr26zrOCznk",
        "outputId": "293af10a-8027-438e-e358-378742ebd915"
      },
      "execution_count": 105,
      "outputs": [
        {
          "output_type": "stream",
          "name": "stdout",
          "text": [
            "(281, 100, 100)\n",
            "(281,)\n"
          ]
        }
      ]
    },
    {
      "cell_type": "code",
      "source": [
        "set(labels)"
      ],
      "metadata": {
        "colab": {
          "base_uri": "https://localhost:8080/"
        },
        "id": "WJv8vSdlDBGN",
        "outputId": "9698f292-f821-4b11-ca0f-7f1aa0d02305"
      },
      "execution_count": 106,
      "outputs": [
        {
          "output_type": "execute_result",
          "data": {
            "text/plain": [
              "{'Neeshikant', 'Sandhya', 'Smruti'}"
            ]
          },
          "metadata": {},
          "execution_count": 106
        }
      ]
    },
    {
      "cell_type": "code",
      "source": [
        "import numpy as np\n",
        "import pandas as pd\n",
        "import matplotlib.pyplot as plt\n",
        "import seaborn as sns\n",
        "import keras\n",
        "import tensorflow"
      ],
      "metadata": {
        "id": "B0WNqbfJDD3k"
      },
      "execution_count": 107,
      "outputs": []
    },
    {
      "cell_type": "code",
      "source": [
        "from sklearn.preprocessing import LabelEncoder\n",
        "le=LabelEncoder()\n",
        "labels=le.fit_transform(labels)"
      ],
      "metadata": {
        "id": "tURsebKIDKq1"
      },
      "execution_count": 108,
      "outputs": []
    },
    {
      "cell_type": "code",
      "source": [
        "set(labels)"
      ],
      "metadata": {
        "colab": {
          "base_uri": "https://localhost:8080/"
        },
        "id": "L4MhEbUZDLgR",
        "outputId": "7017a86f-8945-40d4-ef7e-4d42dd980a3a"
      },
      "execution_count": 109,
      "outputs": [
        {
          "output_type": "execute_result",
          "data": {
            "text/plain": [
              "{0, 1, 2}"
            ]
          },
          "metadata": {},
          "execution_count": 109
        }
      ]
    },
    {
      "cell_type": "code",
      "source": [
        "le.inverse_transform([0,1,2])"
      ],
      "metadata": {
        "id": "uLdxZrQPDNfS",
        "colab": {
          "base_uri": "https://localhost:8080/"
        },
        "outputId": "fd84da48-e44b-4222-ed78-160afaaa39c7"
      },
      "execution_count": 110,
      "outputs": [
        {
          "output_type": "execute_result",
          "data": {
            "text/plain": [
              "array(['Neeshikant', 'Sandhya', 'Smruti'], dtype='<U10')"
            ]
          },
          "metadata": {},
          "execution_count": 110
        }
      ]
    },
    {
      "cell_type": "code",
      "source": [
        "n_persons=len(set(labels))\n",
        "print(\"Number of persons\",n_persons)\n",
        "l=le.inverse_transform(np.arange(n_persons))\n",
        "for i in range(len(l)):\n",
        "  print(i,'-->',l[i])"
      ],
      "metadata": {
        "colab": {
          "base_uri": "https://localhost:8080/"
        },
        "id": "n5ry9v-8DWBq",
        "outputId": "9763fb87-3359-46e2-8c9e-807859c6a375"
      },
      "execution_count": 111,
      "outputs": [
        {
          "output_type": "stream",
          "name": "stdout",
          "text": [
            "Number of persons 3\n",
            "0 --> Neeshikant\n",
            "1 --> Sandhya\n",
            "2 --> Smruti\n"
          ]
        }
      ]
    },
    {
      "cell_type": "code",
      "source": [
        "plt.imshow(images[10],cmap='gray')\n",
        "plt.show()"
      ],
      "metadata": {
        "colab": {
          "base_uri": "https://localhost:8080/",
          "height": 433
        },
        "id": "L_d40SnCDX-B",
        "outputId": "bd832148-8d5c-4c56-843d-df9171c01c5f"
      },
      "execution_count": 112,
      "outputs": [
        {
          "output_type": "display_data",
          "data": {
            "text/plain": [
              "<Figure size 640x480 with 1 Axes>"
            ],
            "image/png": "[encoded data removed]"
          },
          "metadata": {}
        }
      ]
    },
    {
      "cell_type": "code",
      "source": [
        "import cv2\n",
        "def preprocessing(img):\n",
        "  img=cv2.equalizeHist(img)\n",
        "  img=img.reshape(100,100,1)\n",
        "  img=img/255\n",
        "  return img"
      ],
      "metadata": {
        "id": "FHEZfxQ1DbDn"
      },
      "execution_count": 113,
      "outputs": []
    },
    {
      "cell_type": "code",
      "source": [
        "images=np.array(list(map(preprocessing,images)))\n",
        "print(\"Shape of Input:\",images.shape)"
      ],
      "metadata": {
        "colab": {
          "base_uri": "https://localhost:8080/"
        },
        "id": "cNuwF3krDvQr",
        "outputId": "6291bdf0-9965-40a9-ea04-d43bcbce42a0"
      },
      "execution_count": 114,
      "outputs": [
        {
          "output_type": "stream",
          "name": "stdout",
          "text": [
            "Shape of Input: (281, 100, 100, 1)\n"
          ]
        }
      ]
    },
    {
      "cell_type": "code",
      "source": [
        "from keras.models import Sequential\n",
        "from keras.layers import Dense\n",
        "from keras.optimizers import Adam"
      ],
      "metadata": {
        "id": "zBN4WxsTDxOr"
      },
      "execution_count": 115,
      "outputs": []
    },
    {
      "cell_type": "code",
      "source": [
        "from keras.utils import to_categorical\n",
        "labels=to_categorical(labels)"
      ],
      "metadata": {
        "id": "JM4wHLeJDzEb"
      },
      "execution_count": 116,
      "outputs": []
    },
    {
      "cell_type": "code",
      "source": [
        "from keras.layers import Conv2D\n",
        "from keras.layers import MaxPooling2D\n",
        "from keras.layers import Flatten"
      ],
      "metadata": {
        "id": "NAvL17_tD1sm"
      },
      "execution_count": 117,
      "outputs": []
    },
    {
      "cell_type": "code",
      "source": [
        "def Lenet_Model():\n",
        "  model=Sequential()\n",
        "  model.add(Conv2D(30,(5,5),input_shape=(100,100,1),activation='relu'))\n",
        "  model.add(MaxPooling2D(pool_size=(2,2)))\n",
        "  model.add(Conv2D(15,(3,3),activation='relu'))\n",
        "  model.add(MaxPooling2D(pool_size=(2,2)))\n",
        "\n",
        "  model.add(Flatten())\n",
        "  model.add(Dense(30,activation='relu'))\n",
        "\n",
        "  model.add(Dense(3,activation='softmax'))\n",
        "  model.compile(Adam(learning_rate=0.01),loss='categorical_crossentropy',metrics=['accuracy'])\n",
        "  return model"
      ],
      "metadata": {
        "id": "QcClQBEKEGm4"
      },
      "execution_count": 118,
      "outputs": []
    },
    {
      "cell_type": "code",
      "source": [
        "model=Lenet_Model()\n",
        "model.summary()"
      ],
      "metadata": {
        "colab": {
          "base_uri": "https://localhost:8080/"
        },
        "id": "wZ8vuo-JEIBv",
        "outputId": "3772e687-ebc2-411a-e400-f3f7c9988011"
      },
      "execution_count": 119,
      "outputs": [
        {
          "output_type": "stream",
          "name": "stdout",
          "text": [
            "Model: \"sequential_6\"\n",
            "_________________________________________________________________\n",
            " Layer (type)                Output Shape              Param #   \n",
            "=================================================================\n",
            " conv2d_12 (Conv2D)          (None, 96, 96, 30)        780       \n",
            "                                                                 \n",
            " max_pooling2d_12 (MaxPooli  (None, 48, 48, 30)        0         \n",
            " ng2D)                                                           \n",
            "                                                                 \n",
            " conv2d_13 (Conv2D)          (None, 46, 46, 15)        4065      \n",
            "                                                                 \n",
            " max_pooling2d_13 (MaxPooli  (None, 23, 23, 15)        0         \n",
            " ng2D)                                                           \n",
            "                                                                 \n",
            " flatten_6 (Flatten)         (None, 7935)              0         \n",
            "                                                                 \n",
            " dense_12 (Dense)            (None, 30)                238080    \n",
            "                                                                 \n",
            " dense_13 (Dense)            (None, 3)                 93        \n",
            "                                                                 \n",
            "=================================================================\n",
            "Total params: 243018 (949.29 KB)\n",
            "Trainable params: 243018 (949.29 KB)\n",
            "Non-trainable params: 0 (0.00 Byte)\n",
            "_________________________________________________________________\n"
          ]
        }
      ]
    },
    {
      "cell_type": "code",
      "source": [
        "model.fit(images, labels, validation_split=0.1, epochs=10)"
      ],
      "metadata": {
        "colab": {
          "base_uri": "https://localhost:8080/"
        },
        "id": "iGeE8iI9EJrd",
        "outputId": "2fb32311-933d-4831-b77f-40a9b21e7da8"
      },
      "execution_count": 120,
      "outputs": [
        {
          "output_type": "stream",
          "name": "stdout",
          "text": [
            "Epoch 1/10\n",
            "8/8 [==============================] - 3s 307ms/step - loss: 1.5742 - accuracy: 0.4246 - val_loss: 0.7343 - val_accuracy: 1.0000\n",
            "Epoch 2/10\n",
            "8/8 [==============================] - 3s 414ms/step - loss: 0.5320 - accuracy: 0.8929 - val_loss: 0.1427 - val_accuracy: 1.0000\n",
            "Epoch 3/10\n",
            "8/8 [==============================] - 2s 264ms/step - loss: 0.1095 - accuracy: 0.9563 - val_loss: 0.0199 - val_accuracy: 1.0000\n",
            "Epoch 4/10\n",
            "8/8 [==============================] - 2s 296ms/step - loss: 0.0511 - accuracy: 0.9881 - val_loss: 0.0063 - val_accuracy: 1.0000\n",
            "Epoch 5/10\n",
            "8/8 [==============================] - 2s 254ms/step - loss: 0.0028 - accuracy: 1.0000 - val_loss: 0.1357 - val_accuracy: 0.9310\n",
            "Epoch 6/10\n",
            "8/8 [==============================] - 2s 253ms/step - loss: 0.0102 - accuracy: 0.9960 - val_loss: 0.0714 - val_accuracy: 0.9655\n",
            "Epoch 7/10\n",
            "8/8 [==============================] - 3s 361ms/step - loss: 1.7732e-04 - accuracy: 1.0000 - val_loss: 0.0880 - val_accuracy: 0.9655\n",
            "Epoch 8/10\n",
            "8/8 [==============================] - 2s 276ms/step - loss: 1.4962e-04 - accuracy: 1.0000 - val_loss: 0.1250 - val_accuracy: 0.9655\n",
            "Epoch 9/10\n",
            "8/8 [==============================] - 2s 254ms/step - loss: 1.8945e-04 - accuracy: 1.0000 - val_loss: 0.1341 - val_accuracy: 0.9655\n",
            "Epoch 10/10\n",
            "8/8 [==============================] - 2s 257ms/step - loss: 1.2410e-04 - accuracy: 1.0000 - val_loss: 0.1314 - val_accuracy: 0.9655\n"
          ]
        },
        {
          "output_type": "execute_result",
          "data": {
            "text/plain": [
              "<keras.src.callbacks.History at 0x7d69c3cf6170>"
            ]
          },
          "metadata": {},
          "execution_count": 120
        }
      ]
    },
    {
      "cell_type": "code",
      "source": [
        "model.save(\"final_model.h5\")"
      ],
      "metadata": {
        "id": "3qzAsr-mERoD",
        "colab": {
          "base_uri": "https://localhost:8080/"
        },
        "outputId": "db7594a9-6aa6-44c2-b8c9-92cdc4609c65"
      },
      "execution_count": 121,
      "outputs": [
        {
          "output_type": "stream",
          "name": "stderr",
          "text": [
            "/usr/local/lib/python3.10/dist-packages/keras/src/engine/training.py:3103: UserWarning: You are saving your model as an HDF5 file via `model.save()`. This file format is considered legacy. We recommend using instead the native Keras format, e.g. `model.save('my_model.keras')`.\n",
            "  saving_api.save_model(\n"
          ]
        }
      ]
    },
    {
      "cell_type": "code",
      "source": [],
      "metadata": {
        "id": "CEui8m1FOnut"
      },
      "execution_count": 121,
      "outputs": []
    }
  ]
}